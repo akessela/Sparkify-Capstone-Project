{
 "cells": [
  {
   "cell_type": "markdown",
   "metadata": {},
   "source": [
    "# Udacity Data Scientist Capstone project\n",
    "## Project Title: Sparkify"
   ]
  },
  {
   "cell_type": "markdown",
   "metadata": {},
   "source": [
    "### Project Overview\n",
    "Imagine you are working for music streaming company like Spotify or Pandora called Sparkify.Millions of users stream thier favorite songs everyday. Each user  uses either the Free-tier with advertisement between the songs or the premium Subscription Plan.Users can upgrade, downgrade or cancel thier service at any time.Hence, it's crucial to make sure that users love the service provided by Sparkify. Every time a users interacts with the Sparkify app data is generated. Events such as playing a song, logging out, like a song etc. are all recorded. All this data contains key insights that can help the business thrive. The goal of this project is then to analyse this data and predict which group of users are expected to churn - either downgrading from premium to free or cancel thier subscriptions altogether.\n",
    "\n",
    "In this project we'll be performing the following tasks:\n",
    "1. Data Exploration\n",
    "    - Learn about the data\n",
    "2. Define Churn and label data based on churn definition\n",
    "    - Determine which feature or feature value can be user to defin churn\n",
    "3. Feature Engineering\n",
    "    - Create features for each user. This data will be used as input to the model\n",
    "4. Data transformation, data splitting and model training\n",
    "    - Transform feature engineered data. \n",
    "    - Split data into training, validation and test data.\n",
    "    - Build a machine learning model to train using training data"
   ]
  },
  {
   "cell_type": "markdown",
   "metadata": {},
   "source": [
    "This workspace contains a tiny subset (128MB) of the full dataset available (12GB). This workspace is used to build the project, or to explore a smaller subset with Spark before deploying it on the cloud. "
   ]
  },
  {
   "cell_type": "markdown",
   "metadata": {},
   "source": [
    "### Problem Statement\n",
    "Predict sparkify customer churn.A customer churns if he/she downgrades to the free tier or cancel his/her subscription altogether.The strategy is to predict churn given a user activity while using Sparkify App.By generating new features that are good predictors of customer churn, we can build a machine learning model to predict which of sparkify current users are likely to churn."
   ]
  },
  {
   "cell_type": "markdown",
   "metadata": {},
   "source": [
    "### Metrics to evaluate performance\n",
    "F1 score is used to evaluate model performance as the dataset provided is highly imbalanced, i.e. the number of churned users is very small compared to number of active users."
   ]
  },
  {
   "cell_type": "markdown",
   "metadata": {},
   "source": [
    "# Analysis"
   ]
  },
  {
   "cell_type": "code",
   "execution_count": 1,
   "metadata": {},
   "outputs": [],
   "source": [
    "# import libraries\n",
    "from pyspark.sql import SparkSession\n",
    "import pyspark.sql.functions as psqf\n",
    "import pyspark.sql.types as psqt\n",
    "from pyspark.ml.feature import VectorAssembler, StandardScaler\\\n",
    "\n",
    "from pyspark.ml.classification import RandomForestClassifier\n",
    "from pyspark.mllib.util import MLUtils\n",
    "\n",
    "from pyspark.mllib.evaluation import BinaryClassificationMetrics\n",
    "from pyspark.ml.evaluation import MulticlassClassificationEvaluator\n",
    "from pyspark.ml.tuning import CrossValidator, ParamGridBuilder\n",
    "from pyspark.ml import Pipeline\n",
    "from pyspark.ml.feature import IndexToString, StringIndexer, VectorIndexer\n",
    "\n",
    "import datetime\n",
    "import numpy as np\n",
    "import pandas as pd\n",
    "\n",
    "import matplotlib.pyplot as plt\n",
    "%matplotlib inline"
   ]
  },
  {
   "cell_type": "code",
   "execution_count": 2,
   "metadata": {},
   "outputs": [],
   "source": [
    "# create a Spark session\n",
    "spark = SparkSession.builder.appName(\"customer-churn data pipeline\").getOrCreate()"
   ]
  },
  {
   "cell_type": "markdown",
   "metadata": {},
   "source": [
    "### Data Exploration\n",
    "In this workspace, the mini-dataset file is `mini_sparkify_event_data.json`. Load and clean the dataset, checking for invalid or missing data - for example, records without userids or sessionids. "
   ]
  },
  {
   "cell_type": "code",
   "execution_count": 3,
   "metadata": {},
   "outputs": [],
   "source": [
    "data_path = \"mini_sparkify_event_data.json\"\n",
    "user_event = spark.read.json(data_path)\n",
    "df = user_event"
   ]
  },
  {
   "cell_type": "code",
   "execution_count": 4,
   "metadata": {},
   "outputs": [
    {
     "name": "stdout",
     "output_type": "stream",
     "text": [
      "+--------------+---------+---------+------+-------------+--------+---------+-----+---------------+------+--------+-------------+---------+---------+------+-------------+--------------------+------+\n",
      "|        artist|     auth|firstName|gender|itemInSession|lastName|   length|level|       location|method|    page| registration|sessionId|     song|status|           ts|           userAgent|userId|\n",
      "+--------------+---------+---------+------+-------------+--------+---------+-----+---------------+------+--------+-------------+---------+---------+------+-------------+--------------------+------+\n",
      "|Martha Tilston|Logged In|    Colin|     M|           50| Freeman|277.89016| paid|Bakersfield, CA|   PUT|NextSong|1538173362000|       29|Rockpools|   200|1538352117000|Mozilla/5.0 (Wind...|    30|\n",
      "+--------------+---------+---------+------+-------------+--------+---------+-----+---------------+------+--------+-------------+---------+---------+------+-------------+--------------------+------+\n",
      "only showing top 1 row\n",
      "\n"
     ]
    }
   ],
   "source": [
    "user_event.show(1)"
   ]
  },
  {
   "cell_type": "code",
   "execution_count": 5,
   "metadata": {},
   "outputs": [
    {
     "name": "stdout",
     "output_type": "stream",
     "text": [
      "286500 18\n"
     ]
    }
   ],
   "source": [
    "print(user_event.count(), len(user_event.columns))"
   ]
  },
  {
   "cell_type": "code",
   "execution_count": 6,
   "metadata": {},
   "outputs": [
    {
     "name": "stdout",
     "output_type": "stream",
     "text": [
      "root\n",
      " |-- artist: string (nullable = true)\n",
      " |-- auth: string (nullable = true)\n",
      " |-- firstName: string (nullable = true)\n",
      " |-- gender: string (nullable = true)\n",
      " |-- itemInSession: long (nullable = true)\n",
      " |-- lastName: string (nullable = true)\n",
      " |-- length: double (nullable = true)\n",
      " |-- level: string (nullable = true)\n",
      " |-- location: string (nullable = true)\n",
      " |-- method: string (nullable = true)\n",
      " |-- page: string (nullable = true)\n",
      " |-- registration: long (nullable = true)\n",
      " |-- sessionId: long (nullable = true)\n",
      " |-- song: string (nullable = true)\n",
      " |-- status: long (nullable = true)\n",
      " |-- ts: long (nullable = true)\n",
      " |-- userAgent: string (nullable = true)\n",
      " |-- userId: string (nullable = true)\n",
      "\n"
     ]
    }
   ],
   "source": [
    "user_event.printSchema()"
   ]
  },
  {
   "cell_type": "code",
   "execution_count": 7,
   "metadata": {},
   "outputs": [
    {
     "name": "stdout",
     "output_type": "stream",
     "text": [
      "+------+----+---------+------+-------------+--------+------+-----+--------+------+----+------------+---------+-----+------+---+---------+------+\n",
      "|artist|auth|firstName|gender|itemInSession|lastName|length|level|location|method|page|registration|sessionId| song|status| ts|userAgent|userId|\n",
      "+------+----+---------+------+-------------+--------+------+-----+--------+------+----+------------+---------+-----+------+---+---------+------+\n",
      "| 58392|   0|     8346|  8346|            0|    8346| 58392|    0|    8346|     0|   0|        8346|        0|58392|     0|  0|     8346|     0|\n",
      "+------+----+---------+------+-------------+--------+------+-----+--------+------+----+------------+---------+-----+------+---+---------+------+\n",
      "\n"
     ]
    }
   ],
   "source": [
    "#count null values for each column\n",
    "df_nulls = user_event.select([psqf.count(psqf.when(psqf.isnull(c), c)).alias(c) for c in user_event.columns])\n",
    "df_nulls.show()"
   ]
  },
  {
   "cell_type": "code",
   "execution_count": 8,
   "metadata": {},
   "outputs": [
    {
     "name": "stdout",
     "output_type": "stream",
     "text": [
      "+------+----+\n",
      "|userId|page|\n",
      "+------+----+\n",
      "|     0|   0|\n",
      "+------+----+\n",
      "\n"
     ]
    }
   ],
   "source": [
    "# let's make sure page column doesn't have nulls ( as we'll define churn on 'page' column). Do for userId too.\n",
    "df_nulls.select('userId', 'page').show()"
   ]
  },
  {
   "cell_type": "code",
   "execution_count": 9,
   "metadata": {},
   "outputs": [
    {
     "name": "stdout",
     "output_type": "stream",
     "text": [
      "+-----+\n",
      "|level|\n",
      "+-----+\n",
      "| free|\n",
      "| paid|\n",
      "+-----+\n",
      "\n"
     ]
    }
   ],
   "source": [
    "user_event.select('level').distinct().show()"
   ]
  },
  {
   "cell_type": "code",
   "execution_count": 10,
   "metadata": {},
   "outputs": [
    {
     "name": "stdout",
     "output_type": "stream",
     "text": [
      "+-----+-----------+\n",
      "|level|level_count|\n",
      "+-----+-----------+\n",
      "| free|      58338|\n",
      "| paid|     228162|\n",
      "+-----+-----------+\n",
      "\n"
     ]
    }
   ],
   "source": [
    "level_counts= user_event.groupby('level').agg({'level':'count'}).withColumnRenamed(\"count(level)\", \"level_count\")\n",
    "level_counts.show()"
   ]
  },
  {
   "cell_type": "code",
   "execution_count": 11,
   "metadata": {},
   "outputs": [
    {
     "name": "stdout",
     "output_type": "stream",
     "text": [
      "+--------------------+\n",
      "|                page|\n",
      "+--------------------+\n",
      "|              Cancel|\n",
      "|    Submit Downgrade|\n",
      "|         Thumbs Down|\n",
      "|                Home|\n",
      "|           Downgrade|\n",
      "|         Roll Advert|\n",
      "|              Logout|\n",
      "|       Save Settings|\n",
      "|Cancellation Conf...|\n",
      "|               About|\n",
      "| Submit Registration|\n",
      "|            Settings|\n",
      "|               Login|\n",
      "|            Register|\n",
      "|     Add to Playlist|\n",
      "|          Add Friend|\n",
      "|            NextSong|\n",
      "|           Thumbs Up|\n",
      "|                Help|\n",
      "|             Upgrade|\n",
      "+--------------------+\n",
      "only showing top 20 rows\n",
      "\n"
     ]
    }
   ],
   "source": [
    "user_event.select('page').distinct().show()"
   ]
  },
  {
   "cell_type": "code",
   "execution_count": 12,
   "metadata": {},
   "outputs": [
    {
     "name": "stdout",
     "output_type": "stream",
     "text": [
      "+--------------------+----------+\n",
      "|                page|page_count|\n",
      "+--------------------+----------+\n",
      "|              Cancel|        52|\n",
      "|    Submit Downgrade|        63|\n",
      "|         Thumbs Down|      2546|\n",
      "|                Home|     14457|\n",
      "|           Downgrade|      2055|\n",
      "|         Roll Advert|      3933|\n",
      "|              Logout|      3226|\n",
      "|       Save Settings|       310|\n",
      "|Cancellation Conf...|        52|\n",
      "|               About|       924|\n",
      "| Submit Registration|         5|\n",
      "|            Settings|      1514|\n",
      "|               Login|      3241|\n",
      "|            Register|        18|\n",
      "|     Add to Playlist|      6526|\n",
      "|          Add Friend|      4277|\n",
      "|            NextSong|    228108|\n",
      "|           Thumbs Up|     12551|\n",
      "|                Help|      1726|\n",
      "|             Upgrade|       499|\n",
      "+--------------------+----------+\n",
      "only showing top 20 rows\n",
      "\n"
     ]
    }
   ],
   "source": [
    "page_counts= user_event.groupby('page').agg({'page':'count'}).withColumnRenamed(\"count(page)\", \"page_count\")\n",
    "page_counts.show()"
   ]
  },
  {
   "cell_type": "markdown",
   "metadata": {},
   "source": [
    "Let's look at **Cancel** and **Cancellation Confirmation** samples in the dataset"
   ]
  },
  {
   "cell_type": "code",
   "execution_count": 13,
   "metadata": {
    "scrolled": false
   },
   "outputs": [
    {
     "name": "stdout",
     "output_type": "stream",
     "text": [
      "+------+-------------------------+---------+--------+-------------+---------+\n",
      "|userID|page                     |firstName|lastName|ts           |auth     |\n",
      "+------+-------------------------+---------+--------+-------------+---------+\n",
      "|18    |Cancel                   |Adriel   |Mendoza |1538943740000|Logged In|\n",
      "|18    |Cancellation Confirmation|Adriel   |Mendoza |1538943990000|Cancelled|\n",
      "|32    |Cancel                   |Diego    |Mckee   |1539033031000|Logged In|\n",
      "|32    |Cancellation Confirmation|Diego    |Mckee   |1539033046000|Cancelled|\n",
      "|125   |Cancel                   |Mason    |Hart    |1539318918000|Logged In|\n",
      "+------+-------------------------+---------+--------+-------------+---------+\n",
      "only showing top 5 rows\n",
      "\n"
     ]
    }
   ],
   "source": [
    "cancel_events = user_event.filter(psqf.col('page').isin(['Cancel','Cancellation Confirmation'])).select(['userID','page', 'firstName', 'lastName','ts', 'auth'])\n",
    "cancel_events.show(5, False)"
   ]
  },
  {
   "cell_type": "markdown",
   "metadata": {},
   "source": [
    "Now let's analyse the downgrade page a bit by looking at how many of the customers who have downgraded have also cancelled thier subscriptions. The registrationId uniquely identifies each customer."
   ]
  },
  {
   "cell_type": "code",
   "execution_count": 14,
   "metadata": {},
   "outputs": [
    {
     "name": "stdout",
     "output_type": "stream",
     "text": [
      "104 52\n"
     ]
    }
   ],
   "source": [
    "cancel_reg_ids  = [vv['userID'] for vv in cancel_events.select('userID').collect()]\n",
    "print(len(cancel_reg_ids), len(set(cancel_reg_ids)))"
   ]
  },
  {
   "cell_type": "code",
   "execution_count": 15,
   "metadata": {},
   "outputs": [
    {
     "name": "stdout",
     "output_type": "stream",
     "text": [
      "+------+---------+---------+--------+-------------+---------+\n",
      "|userID|page     |firstName|lastName|ts           |auth     |\n",
      "+------+---------+---------+--------+-------------+---------+\n",
      "|54    |Downgrade|Alexi    |Warren  |1538354749000|Logged In|\n",
      "|95    |Downgrade|Faigy    |Howe    |1538373286000|Logged In|\n",
      "|95    |Downgrade|Faigy    |Howe    |1538392612000|Logged In|\n",
      "|131   |Downgrade|Kael     |Baker   |1538393618000|Logged In|\n",
      "|95    |Downgrade|Faigy    |Howe    |1538393664000|Logged In|\n",
      "+------+---------+---------+--------+-------------+---------+\n",
      "only showing top 5 rows\n",
      "\n"
     ]
    }
   ],
   "source": [
    "#customer who downgraded\n",
    "downgrade_events = user_event.filter(psqf.col('page').isin(['Downgrade']))\n",
    "downgrade_events.select(['userID','page', 'firstName', 'lastName','ts', 'auth']).show(5, False)"
   ]
  },
  {
   "cell_type": "code",
   "execution_count": 16,
   "metadata": {},
   "outputs": [
    {
     "name": "stdout",
     "output_type": "stream",
     "text": [
      "2055 154\n"
     ]
    }
   ],
   "source": [
    "downgrade_reg_ids = [vv['userID'] for vv in downgrade_events.select('userID').collect()]\n",
    "print(len(downgrade_reg_ids), len(set(downgrade_reg_ids)))"
   ]
  },
  {
   "cell_type": "code",
   "execution_count": 17,
   "metadata": {},
   "outputs": [
    {
     "name": "stdout",
     "output_type": "stream",
     "text": [
      "22.73% of customers who downgraded have also cancelled their subscriptions\n"
     ]
    }
   ],
   "source": [
    "# Now let's see which of those who downgraded also cancel thier subscription\n",
    "down_cancel = set(cancel_reg_ids).intersection((set(downgrade_reg_ids)))\n",
    "print('{0:.2f}% of customers who downgraded have also cancelled their subscriptions'.format(\n",
    "    100*(len(down_cancel))/len(set(downgrade_reg_ids))))"
   ]
  },
  {
   "cell_type": "code",
   "execution_count": 18,
   "metadata": {},
   "outputs": [
    {
     "name": "stdout",
     "output_type": "stream",
     "text": [
      "+------+---------+---------+-------------+\n",
      "|userID|     page|firstName|           ts|\n",
      "+------+---------+---------+-------------+\n",
      "|   103|Downgrade|    Piper|1539647784000|\n",
      "|   103|Downgrade|    Piper|1539978335000|\n",
      "|   103|Downgrade|    Piper|1540024884000|\n",
      "|   103|Downgrade|    Piper|1540886539000|\n",
      "|   103|Downgrade|    Piper|1540912967000|\n",
      "|   103|Downgrade|    Piper|1540919375000|\n",
      "|   103|Downgrade|    Piper|1540934653000|\n",
      "|   103|Downgrade|    Piper|1540936248000|\n",
      "|   103|Downgrade|    Piper|1540951425000|\n",
      "|   103|Downgrade|    Piper|1540954335000|\n",
      "|   103|Downgrade|    Piper|1540960401000|\n",
      "|   103|Downgrade|    Piper|1541239191000|\n",
      "|   103|Downgrade|    Piper|1541340075000|\n",
      "|   103|   Cancel|    Piper|1541340076000|\n",
      "+------+---------+---------+-------------+\n",
      "\n"
     ]
    }
   ],
   "source": [
    "user_event.filter((psqf.col('userID') == list(down_cancel)[0]) &\n",
    "                  (psqf.col('page').isin(['Downgrade','Cancel']))).select(['userID','page', 'firstName','ts']).show()"
   ]
  },
  {
   "cell_type": "markdown",
   "metadata": {},
   "source": [
    "Inorder to understand the sequence of events, let's convert the timestamp into datatime format."
   ]
  },
  {
   "cell_type": "code",
   "execution_count": 19,
   "metadata": {},
   "outputs": [],
   "source": [
    "ts_udf = psqf.udf(lambda x: datetime.datetime.utcfromtimestamp(x/1000.0).strftime('%Y-%m-%d %H:%M:%S'))"
   ]
  },
  {
   "cell_type": "code",
   "execution_count": 20,
   "metadata": {},
   "outputs": [],
   "source": [
    "user_event = user_event.select('*').withColumn('ts_datetime', ts_udf(psqf.col('ts')))"
   ]
  },
  {
   "cell_type": "code",
   "execution_count": 21,
   "metadata": {},
   "outputs": [
    {
     "name": "stdout",
     "output_type": "stream",
     "text": [
      "+------+-------------------------+---------+-------------+-------------------+\n",
      "|userID|page                     |firstName|ts           |ts_datetime        |\n",
      "+------+-------------------------+---------+-------------+-------------------+\n",
      "|100013|Downgrade                |Cali     |1538697377000|2018-10-04 23:56:17|\n",
      "|100013|Downgrade                |Cali     |1538697927000|2018-10-05 00:05:27|\n",
      "|100013|Downgrade                |Cali     |1538712524000|2018-10-05 04:08:44|\n",
      "|100013|Downgrade                |Cali     |1539047454000|2018-10-09 01:10:54|\n",
      "|100013|Downgrade                |Cali     |1539048976000|2018-10-09 01:36:16|\n",
      "|100013|Downgrade                |Cali     |1539139209000|2018-10-10 02:40:09|\n",
      "|100013|Downgrade                |Cali     |1539139226000|2018-10-10 02:40:26|\n",
      "|100013|Downgrade                |Cali     |1539140491000|2018-10-10 03:01:31|\n",
      "|100013|Downgrade                |Cali     |1539405402000|2018-10-13 04:36:42|\n",
      "|100013|Downgrade                |Cali     |1540552701000|2018-10-26 11:18:21|\n",
      "|100013|Downgrade                |Cali     |1540561195000|2018-10-26 13:39:55|\n",
      "|100013|Downgrade                |Cali     |1540570915000|2018-10-26 16:21:55|\n",
      "|100013|Downgrade                |Cali     |1540885134000|2018-10-30 07:38:54|\n",
      "|100013|Cancel                   |Cali     |1541184785000|2018-11-02 18:53:05|\n",
      "|100013|Cancellation Confirmation|Cali     |1541184816000|2018-11-02 18:53:36|\n",
      "+------+-------------------------+---------+-------------+-------------------+\n",
      "\n"
     ]
    }
   ],
   "source": [
    "user_event.filter((psqf.col('userID') == list(down_cancel)[1]) &\n",
    "                  (psqf.col('page').isin(['Downgrade','Cancel', 'Cancellation Confirmation']))).select(['userID','page', 'firstName','ts', 'ts_datetime']).show(20, False)"
   ]
  },
  {
   "cell_type": "markdown",
   "metadata": {},
   "source": [
    "Loooking at just on customer, we can see that he was on the downgrade page and cancelled after 1 hour.You are welcome to see some of the other users to see this is the case. Here I think the number of Downgrades a user completed could be an indication that user will terminate subscription."
   ]
  },
  {
   "cell_type": "markdown",
   "metadata": {},
   "source": [
    "### Define Churn and label data based on church definition\n",
    "The above analysis shows that `Cancel` is followed by `cancellation confirmation page` and both indicate user is canceling thier subscreption unless they change thier mind once they are on the **cancel** page which seems unlikely event at least for this dataset. So we will use both of these events to define Churn. We have also seen that about 23% of the customers who downgraded have also cancelled thier subscription. However, we'll exclude those who downgraded but didn't cancel yet for this analysis even thought they seem candidates who will eventually cancel their subscription."
   ]
  },
  {
   "cell_type": "code",
   "execution_count": 22,
   "metadata": {},
   "outputs": [],
   "source": [
    "churn_event = user_event.groupby('userId').agg(psqf.collect_list('page').alias('pages'))\n",
    "# define 1 as churned, 0 otherwise\n",
    "churn_f = psqf.udf(lambda x: 1 if 'Cancel' in set(x) else 0)\n",
    "churn_event = churn_event.withColumn(\"label\", churn_f(churn_event.pages)).drop('pages')"
   ]
  },
  {
   "cell_type": "code",
   "execution_count": 23,
   "metadata": {},
   "outputs": [
    {
     "name": "stdout",
     "output_type": "stream",
     "text": [
      "+------+-----+\n",
      "|userId|label|\n",
      "+------+-----+\n",
      "|100010|    0|\n",
      "|200002|    0|\n",
      "+------+-----+\n",
      "only showing top 2 rows\n",
      "\n"
     ]
    }
   ],
   "source": [
    "churn_event.show(2)"
   ]
  },
  {
   "cell_type": "markdown",
   "metadata": {},
   "source": [
    "### Comparing churned users with active users\n",
    "Now that we 've defined churn, let's perform some exploratory data analysis to observe the behavior for users who stayed vs users who churned. Let's start by exploring aggregates on these two groups of users, observing how much of a specific action they experienced per a certain time unit or number of songs played."
   ]
  },
  {
   "cell_type": "code",
   "execution_count": 24,
   "metadata": {},
   "outputs": [],
   "source": [
    "labeled_df  = churn_event.join(user_event, 'userId')"
   ]
  },
  {
   "cell_type": "code",
   "execution_count": 25,
   "metadata": {},
   "outputs": [
    {
     "name": "stdout",
     "output_type": "stream",
     "text": [
      "+------+--------------------+-----+\n",
      "|userId|                page|label|\n",
      "+------+--------------------+-----+\n",
      "|   125|              Cancel|    1|\n",
      "|   125|Cancellation Conf...|    1|\n",
      "|    51|              Cancel|    1|\n",
      "|    51|Cancellation Conf...|    1|\n",
      "|    54|              Cancel|    1|\n",
      "+------+--------------------+-----+\n",
      "only showing top 5 rows\n",
      "\n"
     ]
    }
   ],
   "source": [
    "labeled_df.filter(psqf.col('page').isin([\"Cancel\", \"Cancellation Confirmation\"])).select('userId', 'page', 'label').show(5)"
   ]
  },
  {
   "cell_type": "code",
   "execution_count": 26,
   "metadata": {},
   "outputs": [
    {
     "name": "stdout",
     "output_type": "stream",
     "text": [
      "+-----+------+\n",
      "|label| count|\n",
      "+-----+------+\n",
      "|    0|241636|\n",
      "|    1| 44864|\n",
      "+-----+------+\n",
      "\n"
     ]
    }
   ],
   "source": [
    "churned_count = labeled_df.groupby(\"label\").count().show()"
   ]
  },
  {
   "cell_type": "code",
   "execution_count": 27,
   "metadata": {},
   "outputs": [
    {
     "name": "stdout",
     "output_type": "stream",
     "text": [
      "+-----+-----------+\n",
      "|label|SongsPlayed|\n",
      "+-----+-----------+\n",
      "|    0|     191714|\n",
      "|    1|      36394|\n",
      "+-----+-----------+\n",
      "\n"
     ]
    }
   ],
   "source": [
    "# compare songs played by users for churned vs active users\n",
    "songsplayed = labeled_df.where(psqf.col('song')!='null').groupby(\"label\").agg(psqf.count(psqf.col('song')).alias('SongsPlayed'))\n",
    "songsplayed.show(5)"
   ]
  },
  {
   "cell_type": "code",
   "execution_count": 28,
   "metadata": {},
   "outputs": [
    {
     "name": "stdout",
     "output_type": "stream",
     "text": [
      "+-----+-------------+\n",
      "|label|thumbsUpCount|\n",
      "+-----+-------------+\n",
      "|0    |10692        |\n",
      "|1    |1859         |\n",
      "+-----+-------------+\n",
      "\n"
     ]
    }
   ],
   "source": [
    "# number of songs liked for churned vs active users\n",
    "thumbsup_count = labeled_df.where((psqf.col('page')=='Thumbs Up')).groupby(\"label\").agg(psqf.count(psqf.col('page')).alias('thumbsUpCount'))\n",
    "thumbsup_count.show(5, False)"
   ]
  },
  {
   "cell_type": "code",
   "execution_count": 29,
   "metadata": {},
   "outputs": [
    {
     "name": "stdout",
     "output_type": "stream",
     "text": [
      "+-----+---------------+\n",
      "|label|thumbsDownCount|\n",
      "+-----+---------------+\n",
      "|    0|           2050|\n",
      "|    1|            496|\n",
      "+-----+---------------+\n",
      "\n"
     ]
    }
   ],
   "source": [
    "# number of dislikes for churned vs active users\n",
    "thumbsdown_count = labeled_df.where((psqf.col(\"page\")=='Thumbs Down')).groupby(\"label\").agg(psqf.count(psqf.col('page')).alias('thumbsDownCount'))\n",
    "thumbsdown_count.show(5)"
   ]
  },
  {
   "cell_type": "code",
   "execution_count": 30,
   "metadata": {},
   "outputs": [
    {
     "name": "stdout",
     "output_type": "stream",
     "text": [
      "+-----+--------------+\n",
      "|label|downgradeCount|\n",
      "+-----+--------------+\n",
      "|    0|          1718|\n",
      "|    1|           337|\n",
      "+-----+--------------+\n",
      "\n"
     ]
    }
   ],
   "source": [
    "# number of downgrades for churned vs active users\n",
    "downgrade_count = labeled_df.where((psqf.col(\"page\")=='Downgrade')).groupby(\"label\").agg(psqf.count(psqf.col('page')).alias('downgradeCount'))\n",
    "downgrade_count.show(5)"
   ]
  },
  {
   "cell_type": "markdown",
   "metadata": {},
   "source": [
    "### Visualization\n",
    "Resort to pandas for visualization"
   ]
  },
  {
   "cell_type": "code",
   "execution_count": 31,
   "metadata": {},
   "outputs": [
    {
     "data": {
      "image/png": "[encoded data removed]",
      "text/plain": [
       "<matplotlib.figure.Figure at 0x7fb482ddea20>"
      ]
     },
     "metadata": {
      "needs_background": "light"
     },
     "output_type": "display_data"
    }
   ],
   "source": [
    "use_level_count = labeled_df.groupby('userId', 'level', 'label').count()\n",
    "use_level_count_pd  = use_level_count.select(\"userId\", \"level\", 'label').toPandas()\n",
    "use_level_count_pd[['level', 'label']].groupby(['level', 'label']).agg({'label':'count'}).unstack().plot(kind='bar');\n",
    "plt.title('churned-level customer count comparison')\n",
    "plt.ylabel('customer count');"
   ]
  },
  {
   "cell_type": "code",
   "execution_count": 32,
   "metadata": {},
   "outputs": [
    {
     "data": {
      "image/png": "[encoded data removed]",
      "text/plain": [
       "<matplotlib.figure.Figure at 0x7fb4523bb978>"
      ]
     },
     "metadata": {
      "needs_background": "light"
     },
     "output_type": "display_data"
    }
   ],
   "source": [
    "use_level_count_pd[['level', 'label']].groupby(['level', 'label']).agg({'label':'count'}).unstack().plot(kind='bar');\n",
    "plt.title('churned-level customer count comparison')\n",
    "plt.ylabel('customer count');"
   ]
  },
  {
   "cell_type": "markdown",
   "metadata": {},
   "source": [
    "The above plot shows we more customers on teh free tier. Number of churned users in the free tier is also higher."
   ]
  },
  {
   "cell_type": "code",
   "execution_count": 33,
   "metadata": {},
   "outputs": [
    {
     "data": {
      "image/png": "[encoded data removed]",
      "text/plain": [
       "<matplotlib.figure.Figure at 0x7fb4502701d0>"
      ]
     },
     "metadata": {
      "needs_background": "light"
     },
     "output_type": "display_data"
    }
   ],
   "source": [
    "use_level_count_pd.label.value_counts().plot(kind='bar');\n",
    "plt.ylabel('User count')\n",
    "plt.xlabel('label')\n",
    "plt.title('Churned vs active customer count');"
   ]
  },
  {
   "cell_type": "code",
   "execution_count": 34,
   "metadata": {},
   "outputs": [
    {
     "name": "stdout",
     "output_type": "stream",
     "text": [
      "+-----+---------+-----+\n",
      "|label|     page|count|\n",
      "+-----+---------+-----+\n",
      "|    1|Downgrade|  337|\n",
      "|    0|Downgrade| 1718|\n",
      "+-----+---------+-----+\n",
      "\n"
     ]
    }
   ],
   "source": [
    "# count downgrade events per user\n",
    "downgrade_events_user = labeled_df.filter(psqf.col('page') == 'Downgrade').groupBy('label','page').count()\n",
    "downgrade_events_user.show(2)"
   ]
  },
  {
   "cell_type": "markdown",
   "metadata": {},
   "source": [
    "Number of Downgrades is lower for churned users"
   ]
  },
  {
   "cell_type": "code",
   "execution_count": 35,
   "metadata": {},
   "outputs": [
    {
     "name": "stdout",
     "output_type": "stream",
     "text": [
      "+-----+------+-----+\n",
      "|label|gender|count|\n",
      "+-----+------+-----+\n",
      "|    0|     M|   89|\n",
      "|    0|  null|    1|\n",
      "|    1|     M|   32|\n",
      "|    0|     F|   84|\n",
      "|    1|     F|   20|\n",
      "+-----+------+-----+\n",
      "\n"
     ]
    }
   ],
   "source": [
    "labeled_df.groupBy('userId','label','gender').count().select('label', 'gender').groupBy('label','gender').count().show()"
   ]
  },
  {
   "cell_type": "markdown",
   "metadata": {},
   "source": [
    "Hard to tell here if Gender has an any influence on customer churn."
   ]
  },
  {
   "cell_type": "markdown",
   "metadata": {},
   "source": [
    "### Which of those features can be useful to define churn?\n",
    "- ts: we can get information like total number of hours a customer played songs\n",
    "- song: we can get the number of songs a customer played\n",
    "- from **page** column we can find the number of ThumbsUp, ThumbsDown, and Downgrades"
   ]
  },
  {
   "cell_type": "markdown",
   "metadata": {},
   "source": [
    "# Data Preprocessing\n",
    "Once you've familiarized yourself with the data, build out the features you find promising to train your model on. To work with the full dataset, you can follow the following steps.\n",
    "- Write a script to extract the necessary features from the smaller subset of data\n",
    "- Ensure that your script is scalable, using the best practices discussed in Lesson 3\n",
    "- Try your script on the full data set, debugging your script if necessary\n",
    "\n",
    "If you are working in the classroom workspace, you can just extract features based on the small subset of data contained here. Be sure to transfer over this work to the larger dataset when you work on your Spark cluster."
   ]
  },
  {
   "cell_type": "markdown",
   "metadata": {},
   "source": [
    "### Number of songs each user played"
   ]
  },
  {
   "cell_type": "code",
   "execution_count": 36,
   "metadata": {},
   "outputs": [
    {
     "name": "stdout",
     "output_type": "stream",
     "text": [
      "+------+-----------+\n",
      "|userId|SongsPlayed|\n",
      "+------+-----------+\n",
      "|    10|        673|\n",
      "|   100|       2682|\n",
      "|100001|        133|\n",
      "|100002|        195|\n",
      "|100003|         51|\n",
      "+------+-----------+\n",
      "only showing top 5 rows\n",
      "\n"
     ]
    }
   ],
   "source": [
    "songsplayed = labeled_df.where(psqf.col('song')!='null').groupby(\"userId\").agg(psqf.count(psqf.col('song')).alias('SongsPlayed')).orderBy('userId')\n",
    "songsplayed.show(5)"
   ]
  },
  {
   "cell_type": "markdown",
   "metadata": {},
   "source": [
    "### Number of distinct hour counts  a user logged in the system"
   ]
  },
  {
   "cell_type": "code",
   "execution_count": 37,
   "metadata": {},
   "outputs": [
    {
     "name": "stdout",
     "output_type": "stream",
     "text": [
      "+------+-------------+-------------+\n",
      "|userId|           ts|         hour|\n",
      "+------+-------------+-------------+\n",
      "|100010|1539003534000|2018-10-08-12|\n",
      "|100010|1539003736000|2018-10-08-13|\n",
      "|100010|1539003932000|2018-10-08-13|\n",
      "|100010|1539003933000|2018-10-08-13|\n",
      "|100010|1539004195000|2018-10-08-13|\n",
      "+------+-------------+-------------+\n",
      "only showing top 5 rows\n",
      "\n"
     ]
    }
   ],
   "source": [
    "hours_udf = psqf.udf(lambda x: datetime.datetime.utcfromtimestamp(x/1000.0).strftime('%Y-%m-%d-%H'))\n",
    "hours_df  = labeled_df.select('userId', 'ts').withColumn('hour', hours_udf(psqf.col('ts')))\n",
    "hours_df.show(5)"
   ]
  },
  {
   "cell_type": "code",
   "execution_count": 38,
   "metadata": {},
   "outputs": [
    {
     "name": "stdout",
     "output_type": "stream",
     "text": [
      "+------+---------+\n",
      "|userId|HourCount|\n",
      "+------+---------+\n",
      "|      |     1306|\n",
      "|    10|       51|\n",
      "|   100|      218|\n",
      "|100001|       14|\n",
      "|100002|       18|\n",
      "+------+---------+\n",
      "only showing top 5 rows\n",
      "\n"
     ]
    }
   ],
   "source": [
    "hour_count_df = hours_df.where(psqf.col('userId')!='null').groupby('userId').agg((psqf.countDistinct(psqf.col('hour'))).alias(\"HourCount\")).orderBy('userId')\n",
    "hour_count_df.show(5)"
   ]
  },
  {
   "cell_type": "markdown",
   "metadata": {},
   "source": [
    "### Thumbs Up and Thumbs Down counts:\n",
    "A user having a lot of thumbs down could be an indication of the users disastisfaction with song recommendations from Sparkify while a more thumbs up ( likes) by a user indicates user is happy with song recommendations."
   ]
  },
  {
   "cell_type": "code",
   "execution_count": 39,
   "metadata": {},
   "outputs": [
    {
     "name": "stdout",
     "output_type": "stream",
     "text": [
      "+------+-----+--------------------+---------+---------+------+-------------+---------+---------+-----+--------------------+------+---------+-------------+---------+--------------------+------+-------------+--------------------+-------------------+\n",
      "|userId|label|              artist|     auth|firstName|gender|itemInSession| lastName|   length|level|            location|method|     page| registration|sessionId|                song|status|           ts|           userAgent|        ts_datetime|\n",
      "+------+-----+--------------------+---------+---------+------+-------------+---------+---------+-----+--------------------+------+---------+-------------+---------+--------------------+------+-------------+--------------------+-------------------+\n",
      "|100010|    0|Sleeping With Sirens|Logged In| Darianna|     F|            0|Carpenter|202.97098| free|Bridgeport-Stamfo...|   PUT| NextSong|1538016340000|       31|Captain Tyin Knot...|   200|1539003534000|\"Mozilla/5.0 (iPh...|2018-10-08 12:58:54|\n",
      "|100010|    0|Francesca Battist...|Logged In| Darianna|     F|            1|Carpenter|196.54485| free|Bridgeport-Stamfo...|   PUT| NextSong|1538016340000|       31|Beautiful_ Beauti...|   200|1539003736000|\"Mozilla/5.0 (iPh...|2018-10-08 13:02:16|\n",
      "|100010|    0|              Brutha|Logged In| Darianna|     F|            2|Carpenter|263.13098| free|Bridgeport-Stamfo...|   PUT| NextSong|1538016340000|       31|          She's Gone|   200|1539003932000|\"Mozilla/5.0 (iPh...|2018-10-08 13:05:32|\n",
      "|100010|    0|                null|Logged In| Darianna|     F|            3|Carpenter|     null| free|Bridgeport-Stamfo...|   PUT|Thumbs Up|1538016340000|       31|                null|   307|1539003933000|\"Mozilla/5.0 (iPh...|2018-10-08 13:05:33|\n",
      "|100010|    0|         Josh Ritter|Logged In| Darianna|     F|            4|Carpenter|316.23791| free|Bridgeport-Stamfo...|   PUT| NextSong|1538016340000|       31|      Folk Bloodbath|   200|1539004195000|\"Mozilla/5.0 (iPh...|2018-10-08 13:09:55|\n",
      "+------+-----+--------------------+---------+---------+------+-------------+---------+---------+-----+--------------------+------+---------+-------------+---------+--------------------+------+-------------+--------------------+-------------------+\n",
      "only showing top 5 rows\n",
      "\n"
     ]
    }
   ],
   "source": [
    "# filter out rows with userId == null\n",
    "labeled_df = labeled_df.where(psqf.col('userId')!='null')\n",
    "labeled_df.show(5)"
   ]
  },
  {
   "cell_type": "code",
   "execution_count": 40,
   "metadata": {},
   "outputs": [
    {
     "name": "stdout",
     "output_type": "stream",
     "text": [
      "+------+-------------+\n",
      "|userId|thumbsUpCount|\n",
      "+------+-------------+\n",
      "|10    |37           |\n",
      "|100   |148          |\n",
      "|100001|8            |\n",
      "|100002|5            |\n",
      "|100003|3            |\n",
      "+------+-------------+\n",
      "only showing top 5 rows\n",
      "\n"
     ]
    }
   ],
   "source": [
    "thumbsup_count = labeled_df.where((psqf.col('page')=='Thumbs Up') &(psqf.col('userId')!='null')).groupby(\"userId\").agg(psqf.count(psqf.col('page')).alias('thumbsUpCount')).orderBy('userId')\n",
    "thumbsup_count.show(5, False)"
   ]
  },
  {
   "cell_type": "code",
   "execution_count": 41,
   "metadata": {},
   "outputs": [
    {
     "name": "stdout",
     "output_type": "stream",
     "text": [
      "+------+---------------+\n",
      "|userId|thumbsDownCount|\n",
      "+------+---------------+\n",
      "|    10|              4|\n",
      "|   100|             27|\n",
      "|100001|              2|\n",
      "|100004|             11|\n",
      "|100005|              3|\n",
      "+------+---------------+\n",
      "only showing top 5 rows\n",
      "\n"
     ]
    }
   ],
   "source": [
    "thumbsdown_count = labeled_df.where((psqf.col(\"page\")=='Thumbs Down')&(psqf.col('userId')!='null')).groupby(\"userId\").agg(psqf.count(psqf.col('page')).alias('thumbsDownCount')).orderBy('userId')\n",
    "thumbsdown_count.show(5)"
   ]
  },
  {
   "cell_type": "code",
   "execution_count": 42,
   "metadata": {},
   "outputs": [],
   "source": [
    "## Join all the features\n",
    "features_df = churn_event.join(songsplayed, \"userId\").\\\n",
    "join(hour_count_df, \"userId\").join(thumbsup_count, \"userId\").join(thumbsdown_count, \"userId\")"
   ]
  },
  {
   "cell_type": "code",
   "execution_count": 43,
   "metadata": {},
   "outputs": [
    {
     "name": "stdout",
     "output_type": "stream",
     "text": [
      "+------+-----+-----------+---------+-------------+---------------+\n",
      "|userId|label|SongsPlayed|HourCount|thumbsUpCount|thumbsDownCount|\n",
      "+------+-----+-----------+---------+-------------+---------------+\n",
      "|100010|    0|        275|       26|           17|              5|\n",
      "|200002|    0|        387|       32|           21|              6|\n",
      "|   124|    0|       4079|      306|          171|             41|\n",
      "|    51|    1|       2111|      156|          100|             21|\n",
      "|     7|    0|        150|       18|            7|              1|\n",
      "+------+-----+-----------+---------+-------------+---------------+\n",
      "only showing top 5 rows\n",
      "\n"
     ]
    }
   ],
   "source": [
    "features_df.show(5)"
   ]
  },
  {
   "cell_type": "code",
   "execution_count": 44,
   "metadata": {},
   "outputs": [
    {
     "name": "stdout",
     "output_type": "stream",
     "text": [
      "+-----+--------------------+\n",
      "|label|         rawFeatures|\n",
      "+-----+--------------------+\n",
      "|    0|[275.0,26.0,17.0,...|\n",
      "|    0|[387.0,32.0,21.0,...|\n",
      "|    0|[4079.0,306.0,171...|\n",
      "|    1|[2111.0,156.0,100...|\n",
      "+-----+--------------------+\n",
      "only showing top 4 rows\n",
      "\n"
     ]
    }
   ],
   "source": [
    "assembler = VectorAssembler(inputCols=[\"SongsPlayed\", \"HourCount\", \"thumbsUpCount\", \"thumbsDownCount\"], outputCol=\"rawFeatures\")\n",
    "features_df = assembler.transform(features_df)\n",
    "features_df.select('label', 'rawFeatures').show(4)"
   ]
  },
  {
   "cell_type": "code",
   "execution_count": 45,
   "metadata": {},
   "outputs": [],
   "source": [
    "scaler = StandardScaler(inputCol=\"rawFeatures\", outputCol=\"features\", withStd=True)\n",
    "scalerModel = scaler.fit(features_df)\n",
    "features_df = scalerModel.transform(features_df)"
   ]
  },
  {
   "cell_type": "code",
   "execution_count": 46,
   "metadata": {},
   "outputs": [
    {
     "name": "stdout",
     "output_type": "stream",
     "text": [
      "+-----+--------------------+\n",
      "|label|            features|\n",
      "+-----+--------------------+\n",
      "|    0|[0.24639992057147...|\n",
      "|    0|[0.34675188822240...|\n",
      "+-----+--------------------+\n",
      "only showing top 2 rows\n",
      "\n"
     ]
    }
   ],
   "source": [
    "input_data = features_df.withColumn('label', psqf.col('label').cast(psqt.IntegerType())).select('label', 'features')\n",
    "input_data.show(2)"
   ]
  },
  {
   "cell_type": "markdown",
   "metadata": {},
   "source": [
    "# Implementation\n",
    "Split the full dataset into train, test, and validation sets. Test out several of the machine learning methods you learned. Evaluate the accuracy of the various models, tuning parameters as necessary. Determine your winning model based on test accuracy and report results on the validation set. Since the churned users are a fairly small subset, I suggest using F1 score as the metric to optimize."
   ]
  },
  {
   "cell_type": "markdown",
   "metadata": {},
   "source": [
    "### split datest into train, validation and test sets\n",
    "- train model using training dataset\n",
    "- tune model using validation dataset\n",
    "- test best model selected based on validation dataset on test dataset."
   ]
  },
  {
   "cell_type": "code",
   "execution_count": 47,
   "metadata": {},
   "outputs": [],
   "source": [
    "# Index labels, adding metadata to the label column.\n",
    "# Fit on whole dataset to include all labels in index.\n",
    "labelIndexer = StringIndexer(inputCol=\"label\", outputCol=\"indexedLabel\").fit(input_data)"
   ]
  },
  {
   "cell_type": "code",
   "execution_count": 48,
   "metadata": {},
   "outputs": [],
   "source": [
    "# Automatically identify categorical features, and index them.\n",
    "# Set maxCategories so features with > 4 distinct values are treated as continuous.\n",
    "featureIndexer =\\\n",
    "    VectorIndexer(inputCol=\"features\", outputCol=\"indexedFeatures\", maxCategories=4).fit(input_data)"
   ]
  },
  {
   "cell_type": "code",
   "execution_count": 49,
   "metadata": {},
   "outputs": [],
   "source": [
    "# Split the data into training and test sets (since dataset is imbalanced)\n",
    "(trainingData, tempData) = input_data.randomSplit([0.6, 0.4])\n",
    "(validationData, testData) = tempData.randomSplit([0.5, 0.5])"
   ]
  },
  {
   "cell_type": "code",
   "execution_count": 50,
   "metadata": {},
   "outputs": [],
   "source": [
    "# Train a RandomForest model.\n",
    "rf = RandomForestClassifier(labelCol=\"indexedLabel\", featuresCol=\"indexedFeatures\", numTrees=10)\n",
    "# Convert indexed labels back to original labels.\n",
    "labelConverter = IndexToString(inputCol=\"prediction\", outputCol=\"predictedLabel\",\n",
    "                               labels=labelIndexer.labels)\n",
    "# Chain indexers and forest in a Pipeline\n",
    "pipeline = Pipeline(stages=[labelIndexer, featureIndexer, rf, labelConverter])"
   ]
  },
  {
   "cell_type": "code",
   "execution_count": 51,
   "metadata": {},
   "outputs": [],
   "source": [
    "# Train model.  This also runs the indexers.\n",
    "model = pipeline.fit(trainingData)"
   ]
  },
  {
   "cell_type": "code",
   "execution_count": 52,
   "metadata": {},
   "outputs": [
    {
     "name": "stdout",
     "output_type": "stream",
     "text": [
      "+--------------+-----+--------------------+\n",
      "|predictedLabel|label|            features|\n",
      "+--------------+-----+--------------------+\n",
      "|             1|    0|[0.24639992057147...|\n",
      "|             0|    0|[0.34675188822240...|\n",
      "|             0|    0|[3.65478282185840...|\n",
      "|             0|    0|[1.42015954220288...|\n",
      "|             1|    0|[0.33779189111071...|\n",
      "+--------------+-----+--------------------+\n",
      "only showing top 5 rows\n",
      "\n",
      "Validation Error = 0.285714\n",
      "RandomForestClassificationModel (uid=RandomForestClassifier_5e58d1bc9733) with 10 trees\n"
     ]
    }
   ],
   "source": [
    "# Make predictions.\n",
    "predictions = model.transform(validationData)\n",
    "\n",
    "# Select example rows to display.\n",
    "predictions.select(\"predictedLabel\", \"label\", \"features\").show(5)\n",
    "\n",
    "# Select (prediction, true label) and compute test error\n",
    "evaluator = MulticlassClassificationEvaluator(\n",
    "    labelCol=\"indexedLabel\", predictionCol=\"prediction\", metricName=\"accuracy\")\n",
    "accuracy = evaluator.evaluate(predictions)\n",
    "print(\"Validation Error = %g\" % (1.0 - accuracy))\n",
    "\n",
    "rfModel = model.stages[2]\n",
    "print(rfModel)  # summary only"
   ]
  },
  {
   "cell_type": "code",
   "execution_count": 53,
   "metadata": {},
   "outputs": [
    {
     "name": "stdout",
     "output_type": "stream",
     "text": [
      "F1 score = 0.665306\n"
     ]
    }
   ],
   "source": [
    "f1_score_evaluator = MulticlassClassificationEvaluator(labelCol=\"indexedLabel\", predictionCol=\"prediction\",metricName='f1')\n",
    "f1_score = f1_score_evaluator.evaluate(predictions)\n",
    "print(\"F1 score = %g\" % (f1_score))"
   ]
  },
  {
   "cell_type": "markdown",
   "metadata": {},
   "source": [
    "# Refinement"
   ]
  },
  {
   "cell_type": "markdown",
   "metadata": {},
   "source": [
    "Let's tune our model to have a better performance."
   ]
  },
  {
   "cell_type": "code",
   "execution_count": 54,
   "metadata": {},
   "outputs": [],
   "source": [
    "rfc = RandomForestClassifier(labelCol=\"indexedLabel\", featuresCol=\"indexedFeatures\")\n",
    "# Chain indexers and forest in a Pipeline\n",
    "pipeline = Pipeline(stages=[labelIndexer, featureIndexer, rfc, labelConverter])\n",
    "param_grid = ParamGridBuilder().addGrid(rfc.numTrees, [10, 15]).addGrid(rfc.maxDepth, [2, 5]).build()\n",
    "cv = CrossValidator(estimator=pipeline, \n",
    "                    estimatorParamMaps = param_grid, \n",
    "                    evaluator = MulticlassClassificationEvaluator(metricName='f1'),\n",
    "                    numFolds=3)\n",
    "\n",
    "best_model = cv.fit(trainingData)"
   ]
  },
  {
   "cell_type": "code",
   "execution_count": 55,
   "metadata": {},
   "outputs": [],
   "source": [
    "def evaluate_model(model, data):\n",
    "    \"\"\"\n",
    "    Make prediction and evaluate model.\n",
    "    Parameters\n",
    "    -----------\n",
    "        model: model object\n",
    "    returns\n",
    "    -------\n",
    "        None\n",
    "    \"\"\"\n",
    "    predictions = model.transform(data)\n",
    "\n",
    "    # Select example rows to display.\n",
    "    predictions.select(\"predictedLabel\", \"label\", \"features\").show(5)\n",
    "\n",
    "    # Select (prediction, true label) and compute test error\n",
    "    evaluator = MulticlassClassificationEvaluator(\n",
    "        labelCol=\"indexedLabel\", predictionCol=\"prediction\", metricName=\"accuracy\")\n",
    "    accuracy = evaluator.evaluate(predictions)\n",
    "    print(\"Error = %g\" % (1.0 - accuracy))\n",
    "    f1_score_evaluator = MulticlassClassificationEvaluator(labelCol=\"indexedLabel\", predictionCol=\"prediction\",metricName='f1')\n",
    "    f1_score = f1_score_evaluator.evaluate(predictions)\n",
    "    print(\"F1 score = %g\" % (f1_score))"
   ]
  },
  {
   "cell_type": "code",
   "execution_count": 56,
   "metadata": {},
   "outputs": [
    {
     "name": "stdout",
     "output_type": "stream",
     "text": [
      "+--------------+-----+--------------------+\n",
      "|predictedLabel|label|            features|\n",
      "+--------------+-----+--------------------+\n",
      "|             1|    0|[0.24639992057147...|\n",
      "|             0|    0|[0.34675188822240...|\n",
      "|             0|    0|[3.65478282185840...|\n",
      "|             0|    0|[1.42015954220288...|\n",
      "|             0|    0|[0.33779189111071...|\n",
      "+--------------+-----+--------------------+\n",
      "only showing top 5 rows\n",
      "\n",
      "Error = 0.261905\n",
      "F1 score = 0.647097\n"
     ]
    }
   ],
   "source": [
    "evaluate_model(model=best_model, data=validationData)"
   ]
  },
  {
   "cell_type": "code",
   "execution_count": 57,
   "metadata": {},
   "outputs": [
    {
     "name": "stdout",
     "output_type": "stream",
     "text": [
      "+--------------+-----+--------------------+\n",
      "|predictedLabel|label|            features|\n",
      "+--------------+-----+--------------------+\n",
      "|             0|    0|[0.13439995667535...|\n",
      "|             0|    1|[2.54553517943116...|\n",
      "|             0|    0|[1.00799967506513...|\n",
      "|             1|    1|[0.33779189111071...|\n",
      "|             0|    1|[0.19174393819016...|\n",
      "+--------------+-----+--------------------+\n",
      "only showing top 5 rows\n",
      "\n",
      "Error = 0.133333\n",
      "F1 score = 0.847863\n"
     ]
    }
   ],
   "source": [
    "evaluate_model(model=best_model, data=testData)"
   ]
  },
  {
   "cell_type": "markdown",
   "metadata": {},
   "source": [
    "# Results\n",
    "We have analysed the sparkify dataset and come up with new features to predict churn. We then created a machine learning model and tuned it to improve its performance. We achieved an accuracy score of - and F1 score of - on the test dataset. "
   ]
  },
  {
   "cell_type": "markdown",
   "metadata": {},
   "source": [
    "# Conclusion\n",
    "We are able to achieve an accuracy score of -- and F1 score of -- on the test dataset using the tuned Random Forest algorithm. The model peformance can be further improved by creating additional features and includiding some of the features that I have left out for this analysis. The model should also be tested using samples from the left out big dataset which hasn't been used for this analysis. Once we are satified with the result, a large scale of the model can be implemented on the cloud."
   ]
  }
 ],
 "metadata": {
  "kernelspec": {
   "display_name": "Python 3",
   "language": "python",
   "name": "python3"
  },
  "language_info": {
   "codemirror_mode": {
    "name": "ipython",
    "version": 3
   },
   "file_extension": ".py",
   "mimetype": "text/x-python",
   "name": "python",
   "nbconvert_exporter": "python",
   "pygments_lexer": "ipython3",
   "version": "3.6.3"
  }
 },
 "nbformat": 4,
 "nbformat_minor": 2
}
